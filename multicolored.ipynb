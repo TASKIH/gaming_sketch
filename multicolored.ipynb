{
 "cells": [
  {
   "cell_type": "code",
   "execution_count": 19,
   "metadata": {
    "pycharm": {
     "name": "#%%\n"
    }
   },
   "outputs": [],
   "source": [
    "## Copy pretrained model file at \\weights\\ from \"https://drive.google.com/drive/folders/1Srf-WYUixK0wiUddc9y3pNKHHno5PN6R\".\n",
    "\n",
    "from PIL import Image\n",
    "import os\n",
    "import numpy as np"
   ]
  },
  {
   "cell_type": "code",
   "execution_count": 20,
   "metadata": {
    "pycharm": {
     "name": "#%%\n"
    }
   },
   "outputs": [],
   "source": [
    "def to_transparent(src_image):\n",
    "    \"\"\"\n",
    "    Make the input image file transparent.\n",
    "    :param src_image:\n",
    "    :return: transparent image file.\n",
    "    \"\"\"\n",
    "    threshold=100\n",
    "    dist=5\n",
    "    img=src_image.convert('RGBA')\n",
    "    arr=np.array(np.asarray(img))\n",
    "    r,g,b,a=np.rollaxis(arr,axis=-1)\n",
    "    mask=((r>threshold)\n",
    "          & (g>threshold)\n",
    "          & (b>threshold)\n",
    "          & (np.abs(r-g)<dist)\n",
    "          & (np.abs(r-b)<dist)\n",
    "          & (np.abs(g-b)<dist)\n",
    "          )\n",
    "    arr[mask,3]=0\n",
    "    img=Image.fromarray(arr,mode='RGBA')\n",
    "    return img"
   ]
  },
  {
   "cell_type": "code",
   "execution_count": 21,
   "metadata": {
    "pycharm": {
     "name": "#%%\n"
    }
   },
   "outputs": [],
   "source": [
    "# Color transition.\n",
    "color_styles = [\n",
    "    (255,0,255, 255), # magenta\n",
    "    (255,25,225, 255 ),\n",
    "    (255,50,200, 255 ),\n",
    "    (255,75,175, 255 ),\n",
    "    (255,100,150, 255 ),\n",
    "    (255,125,125, 255 ),\n",
    "    (255,150,100, 255 ),\n",
    "    (255,175,75, 255 ),\n",
    "    (255,200,50, 255 ),\n",
    "    (255,225,25, 255 ),\n",
    "    (255,255,0, 255 ), # yellow\n",
    "    (225,255,25, 255 ),\n",
    "    (200,255,50, 255 ),\n",
    "    (175,255,75, 255 ),\n",
    "    (150,255,100, 255 ),\n",
    "    (125,255,125, 255 ),\n",
    "    (100,255,150, 255 ),\n",
    "    (75,255,175, 255 ),\n",
    "    (50,255,200, 255 ),\n",
    "    (25,255,225, 255 ),\n",
    "    (0,255,255, 255 ), # cyan\n",
    "    (25,225,255, 255 ),\n",
    "    (50,200,255, 255 ),\n",
    "    (75,175,255, 255 ),\n",
    "    (100,150,255, 255 ),\n",
    "    (125,125,255, 255 ),\n",
    "    (150,100,255, 255 ),\n",
    "    (175,75,255, 255 ),\n",
    "    (200,50,255, 255 ),\n",
    "    (225,25,255, 255 ),\n",
    "]"
   ]
  },
  {
   "cell_type": "code",
   "execution_count": 22,
   "metadata": {
    "pycharm": {
     "name": "#%%\n"
    }
   },
   "outputs": [],
   "source": [
    "from data import tensor_to_img, read_img_path\n",
    "from model import create_model\n",
    "import torch\n",
    "\n",
    "class ModelSingleton:\n",
    "    \"\"\"\n",
    "    Use singleton to reduce initialization model\n",
    "    \"\"\"\n",
    "    _model = None\n",
    "    @staticmethod\n",
    "    def get_model():\n",
    "        if ModelSingleton._model is None:\n",
    "            device = torch.device('cuda' if torch.cuda.is_available() else 'cpu')\n",
    "            ModelSingleton._model = create_model().to(device)\n",
    "            ModelSingleton._model.eval()\n",
    "        return ModelSingleton._model\n",
    "\n",
    "def create_sketch(image_file_path: str) -> Image:\n",
    "    \"\"\"\n",
    "    Create sketch.\n",
    "    :param image_file_path:\n",
    "    :return: sketch\n",
    "    \"\"\"\n",
    "    model = ModelSingleton.get_model()\n",
    "    device = torch.device('cuda' if torch.cuda.is_available() else 'cpu')\n",
    "\n",
    "    img, aus_resize = read_img_path(image_file_path, 1024)\n",
    "    aus_tensor = model(img.to(device))\n",
    "    aus_img = tensor_to_img(aus_tensor)\n",
    "    return Image.fromarray(aus_img), (1024, 1024)"
   ]
  },
  {
   "cell_type": "code",
   "execution_count": 23,
   "metadata": {
    "pycharm": {
     "name": "#%%\n"
    }
   },
   "outputs": [],
   "source": [
    "def convert_color(image, color_rgba):\n",
    "    \"\"\"\n",
    "    Convert color to passed color_rgba but white or transparent pixel.\n",
    "    :param image:\n",
    "    :param color_rgba:\n",
    "    :return:\n",
    "    \"\"\"\n",
    "    if image.mode != \"RGBA\":\n",
    "        image=image.convert(\"RGBA\")\n",
    "    w,h=image.size\n",
    "    for x in range(w):\n",
    "        for y in range(h):\n",
    "            r,g,b,a=image.getpixel((x,y))\n",
    "            if (r == 0 and g == 0 and b == 0)or a == 0:\n",
    "                continue\n",
    "            image.putpixel((x,y), color_rgba)\n",
    "    return image\n"
   ]
  },
  {
   "cell_type": "code",
   "execution_count": 24,
   "metadata": {
    "pycharm": {
     "name": "#%%\n"
    }
   },
   "outputs": [],
   "source": [
    "def create_gaming_gif(original_file_path: str, dest_dir_path: str):\n",
    "    \"\"\"\n",
    "    Make GAMING animated gif.\n",
    "    :param original_file_path: source image file path.\n",
    "    :param dest_dir_path: destination directory path.\n",
    "    \"\"\"\n",
    "\n",
    "    # 線画を作る\n",
    "    sketch,aus_resize = create_sketch(original_file_path)\n",
    "\n",
    "    resize_data = aus_resize\n",
    "    # 二回もファイル開いてて非効率だけど直すの面倒なので一旦このまま\n",
    "    base_image = Image.open(original_file_path)\n",
    "    base_image = base_image.resize(resize_data, Image.Resampling.LANCZOS)\n",
    "\n",
    "    gif_sources = []\n",
    "    file_name = os.path.basename(original_file_path)\n",
    "\n",
    "    for color in color_styles:\n",
    "        # 線画をコピーして着色\n",
    "        mask_image = sketch.copy()\n",
    "        mask_image = to_transparent(mask_image)\n",
    "        mask_image = convert_color(mask_image, color)\n",
    "\n",
    "        # RGBAを設定（合成するために、色がついてる部分以外は透過する\n",
    "        target_image=base_image.copy().convert('RGBA')\n",
    "        target_image.paste(mask_image, (0, 0), mask_image)\n",
    "\n",
    "        # gifの元データとして追加\n",
    "        gif_sources.append(target_image)\n",
    "\n",
    "    gif_sources[0].save(f\"{dest_dir_path}/{file_name}.gif\",\n",
    "           save_all=True, append_images=gif_sources[1:], optimize=False, duration=40, loop=0)\n"
   ]
  },
  {
   "cell_type": "code",
   "execution_count": 25,
   "metadata": {
    "pycharm": {
     "name": "#%%\n"
    }
   },
   "outputs": [],
   "source": [
    "# Set source image file path as the 1st parameter and destination dir path as the 2nd.\n",
    "create_gaming_gif(original_file_path=r\".\\src_files\\\\localstingray.jpg\", dest_dir_path=r\".\\dest_images\\\\\")"
   ]
  },
  {
   "cell_type": "code",
   "execution_count": null,
   "metadata": {
    "pycharm": {
     "name": "#%%\n"
    }
   },
   "outputs": [],
   "source": []
  }
 ],
 "metadata": {
  "kernelspec": {
   "display_name": "Python 3 (ipykernel)",
   "language": "python",
   "name": "python3"
  },
  "language_info": {
   "codemirror_mode": {
    "name": "ipython",
    "version": 3
   },
   "file_extension": ".py",
   "mimetype": "text/x-python",
   "name": "python",
   "nbconvert_exporter": "python",
   "pygments_lexer": "ipython3",
   "version": "3.9.12"
  }
 },
 "nbformat": 4,
 "nbformat_minor": 1
}